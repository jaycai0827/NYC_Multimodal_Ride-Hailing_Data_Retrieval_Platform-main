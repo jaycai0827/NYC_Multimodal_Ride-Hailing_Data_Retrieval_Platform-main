{
 "cells": [
  {
   "cell_type": "code",
   "execution_count": 1,
   "metadata": {},
   "outputs": [],
   "source": [
    "import numpy as np\n",
    "import pandas as pd"
   ]
  },
  {
   "cell_type": "code",
   "execution_count": 2,
   "metadata": {},
   "outputs": [
    {
     "data": {
      "text/html": [
       "<div>\n",
       "<style scoped>\n",
       "    .dataframe tbody tr th:only-of-type {\n",
       "        vertical-align: middle;\n",
       "    }\n",
       "\n",
       "    .dataframe tbody tr th {\n",
       "        vertical-align: top;\n",
       "    }\n",
       "\n",
       "    .dataframe thead th {\n",
       "        text-align: right;\n",
       "    }\n",
       "</style>\n",
       "<table border=\"1\" class=\"dataframe\">\n",
       "  <thead>\n",
       "    <tr style=\"text-align: right;\">\n",
       "      <th></th>\n",
       "      <th>OBJECTID</th>\n",
       "      <th>Shape_Leng</th>\n",
       "      <th>the_geom</th>\n",
       "      <th>Shape_Area</th>\n",
       "      <th>zone</th>\n",
       "      <th>LocationID</th>\n",
       "      <th>borough</th>\n",
       "    </tr>\n",
       "  </thead>\n",
       "  <tbody>\n",
       "    <tr>\n",
       "      <th>0</th>\n",
       "      <td>1</td>\n",
       "      <td>0.116357</td>\n",
       "      <td>MULTIPOLYGON (((-74.18445299999996 40.69499599...</td>\n",
       "      <td>0.000782</td>\n",
       "      <td>Newark Airport</td>\n",
       "      <td>1</td>\n",
       "      <td>EWR</td>\n",
       "    </tr>\n",
       "    <tr>\n",
       "      <th>1</th>\n",
       "      <td>2</td>\n",
       "      <td>0.433470</td>\n",
       "      <td>MULTIPOLYGON (((-73.82337597260663 40.63898704...</td>\n",
       "      <td>0.004866</td>\n",
       "      <td>Jamaica Bay</td>\n",
       "      <td>2</td>\n",
       "      <td>Queens</td>\n",
       "    </tr>\n",
       "    <tr>\n",
       "      <th>2</th>\n",
       "      <td>3</td>\n",
       "      <td>0.084341</td>\n",
       "      <td>MULTIPOLYGON (((-73.84792614099985 40.87134223...</td>\n",
       "      <td>0.000314</td>\n",
       "      <td>Allerton/Pelham Gardens</td>\n",
       "      <td>3</td>\n",
       "      <td>Bronx</td>\n",
       "    </tr>\n",
       "    <tr>\n",
       "      <th>3</th>\n",
       "      <td>4</td>\n",
       "      <td>0.043567</td>\n",
       "      <td>MULTIPOLYGON (((-73.97177410965318 40.72582128...</td>\n",
       "      <td>0.000112</td>\n",
       "      <td>Alphabet City</td>\n",
       "      <td>4</td>\n",
       "      <td>Manhattan</td>\n",
       "    </tr>\n",
       "    <tr>\n",
       "      <th>4</th>\n",
       "      <td>5</td>\n",
       "      <td>0.092146</td>\n",
       "      <td>MULTIPOLYGON (((-74.17421738099989 40.56256808...</td>\n",
       "      <td>0.000498</td>\n",
       "      <td>Arden Heights</td>\n",
       "      <td>5</td>\n",
       "      <td>Staten Island</td>\n",
       "    </tr>\n",
       "  </tbody>\n",
       "</table>\n",
       "</div>"
      ],
      "text/plain": [
       "   OBJECTID  Shape_Leng                                           the_geom  \\\n",
       "0         1    0.116357  MULTIPOLYGON (((-74.18445299999996 40.69499599...   \n",
       "1         2    0.433470  MULTIPOLYGON (((-73.82337597260663 40.63898704...   \n",
       "2         3    0.084341  MULTIPOLYGON (((-73.84792614099985 40.87134223...   \n",
       "3         4    0.043567  MULTIPOLYGON (((-73.97177410965318 40.72582128...   \n",
       "4         5    0.092146  MULTIPOLYGON (((-74.17421738099989 40.56256808...   \n",
       "\n",
       "   Shape_Area                     zone  LocationID        borough  \n",
       "0    0.000782           Newark Airport           1            EWR  \n",
       "1    0.004866              Jamaica Bay           2         Queens  \n",
       "2    0.000314  Allerton/Pelham Gardens           3          Bronx  \n",
       "3    0.000112            Alphabet City           4      Manhattan  \n",
       "4    0.000498            Arden Heights           5  Staten Island  "
      ]
     },
     "execution_count": 2,
     "metadata": {},
     "output_type": "execute_result"
    }
   ],
   "source": [
    "df = pd.read_csv('datasets/taxi_zones(from data.gov).csv')\n",
    "df.head()"
   ]
  },
  {
   "cell_type": "code",
   "execution_count": 3,
   "metadata": {},
   "outputs": [
    {
     "data": {
      "text/plain": [
       "(263, 4)"
      ]
     },
     "execution_count": 3,
     "metadata": {},
     "output_type": "execute_result"
    }
   ],
   "source": [
    "df = df.loc[:, ['the_geom', 'zone', 'LocationID', 'borough']]\n",
    "df.shape"
   ]
  },
  {
   "cell_type": "code",
   "execution_count": 4,
   "metadata": {},
   "outputs": [
    {
     "data": {
      "text/plain": [
       "the_geom      0\n",
       "zone          0\n",
       "LocationID    0\n",
       "borough       0\n",
       "dtype: int64"
      ]
     },
     "execution_count": 4,
     "metadata": {},
     "output_type": "execute_result"
    }
   ],
   "source": [
    "df.isna().sum()"
   ]
  },
  {
   "cell_type": "code",
   "execution_count": 5,
   "metadata": {},
   "outputs": [
    {
     "data": {
      "text/plain": [
       "(263,)"
      ]
     },
     "execution_count": 5,
     "metadata": {},
     "output_type": "execute_result"
    }
   ],
   "source": [
    "geom = df.loc[:, 'the_geom'].values\n",
    "geom.shape"
   ]
  },
  {
   "cell_type": "code",
   "execution_count": 6,
   "metadata": {},
   "outputs": [
    {
     "data": {
      "text/html": [
       "<div>\n",
       "<style scoped>\n",
       "    .dataframe tbody tr th:only-of-type {\n",
       "        vertical-align: middle;\n",
       "    }\n",
       "\n",
       "    .dataframe tbody tr th {\n",
       "        vertical-align: top;\n",
       "    }\n",
       "\n",
       "    .dataframe thead th {\n",
       "        text-align: right;\n",
       "    }\n",
       "</style>\n",
       "<table border=\"1\" class=\"dataframe\">\n",
       "  <thead>\n",
       "    <tr style=\"text-align: right;\">\n",
       "      <th></th>\n",
       "      <th>zone</th>\n",
       "      <th>LocationID</th>\n",
       "      <th>borough</th>\n",
       "      <th>lat</th>\n",
       "      <th>lon</th>\n",
       "    </tr>\n",
       "  </thead>\n",
       "  <tbody>\n",
       "    <tr>\n",
       "      <th>0</th>\n",
       "      <td>Newark Airport</td>\n",
       "      <td>1</td>\n",
       "      <td>EWR</td>\n",
       "      <td>40.69024330172403</td>\n",
       "      <td>-74.17427027586203</td>\n",
       "    </tr>\n",
       "    <tr>\n",
       "      <th>1</th>\n",
       "      <td>Jamaica Bay</td>\n",
       "      <td>2</td>\n",
       "      <td>Queens</td>\n",
       "      <td>40.61216268077739</td>\n",
       "      <td>-73.81764292356883</td>\n",
       "    </tr>\n",
       "    <tr>\n",
       "      <th>2</th>\n",
       "      <td>Allerton/Pelham Gardens</td>\n",
       "      <td>3</td>\n",
       "      <td>Bronx</td>\n",
       "      <td>40.86429403840487</td>\n",
       "      <td>-73.84650986336355</td>\n",
       "    </tr>\n",
       "    <tr>\n",
       "      <th>3</th>\n",
       "      <td>Alphabet City</td>\n",
       "      <td>4</td>\n",
       "      <td>Manhattan</td>\n",
       "      <td>40.72385314970739</td>\n",
       "      <td>-73.97520908904802</td>\n",
       "    </tr>\n",
       "    <tr>\n",
       "      <th>4</th>\n",
       "      <td>Arden Heights</td>\n",
       "      <td>5</td>\n",
       "      <td>Staten Island</td>\n",
       "      <td>40.55667805421755</td>\n",
       "      <td>-74.1898026069764</td>\n",
       "    </tr>\n",
       "  </tbody>\n",
       "</table>\n",
       "</div>"
      ],
      "text/plain": [
       "                      zone  LocationID        borough                lat  \\\n",
       "0           Newark Airport           1            EWR  40.69024330172403   \n",
       "1              Jamaica Bay           2         Queens  40.61216268077739   \n",
       "2  Allerton/Pelham Gardens           3          Bronx  40.86429403840487   \n",
       "3            Alphabet City           4      Manhattan  40.72385314970739   \n",
       "4            Arden Heights           5  Staten Island  40.55667805421755   \n",
       "\n",
       "                  lon  \n",
       "0  -74.17427027586203  \n",
       "1  -73.81764292356883  \n",
       "2  -73.84650986336355  \n",
       "3  -73.97520908904802  \n",
       "4   -74.1898026069764  "
      ]
     },
     "execution_count": 6,
     "metadata": {},
     "output_type": "execute_result"
    }
   ],
   "source": [
    "lat = []  # 緯度\n",
    "lon = []  # 經度\n",
    "\n",
    "for i in geom:\n",
    "    geom_str = i.strip('MULTIPOLYGON ((').strip('))').split()  # 去除頭尾多餘的字串和()，並將每一個值獨立\n",
    "    coordinate = np.array([float(geom_str[-1]), float(geom_str[0])])  # 取出第1個值和最後一個值轉為float，組成一個獨立array，稍後添加到主要array\n",
    "    \n",
    "    # 刪除已經獨立的第1個值和最後一個值\n",
    "    geom_str = np.delete(geom_str, 0)\n",
    "    geom_str = np.delete(geom_str, -1)\n",
    "\n",
    "    # 將每個值中多餘的逗號, 空格, ()移除，並轉為float\n",
    "    geom_float = np.array([])\n",
    "    for j in geom_str:\n",
    "        geom_float = np.append(geom_float, float(j.strip(', ').strip('((').strip('))')))\n",
    "    \n",
    "    geom_float = list(geom_float)\n",
    "    \n",
    "    # 將先前獨立的array加回\n",
    "    geom_float += list(coordinate)\n",
    "\n",
    "    # 將經緯度分別存成list\n",
    "    lat_temp = []\n",
    "    lon_temp = []\n",
    "    for k in range(len(geom_float)):\n",
    "        if k % 2 == 0:\n",
    "            lat_temp.append(float(geom_float[k]))\n",
    "        else:\n",
    "            lon_temp.append(float(geom_float[k]))\n",
    "    \n",
    "    lat.append(np.mean(lat_temp))\n",
    "    lon.append(np.mean(lon_temp))\n",
    "\n",
    "\n",
    "df['lat'] = lat\n",
    "df['lon'] = lon\n",
    "df = df.astype({'lat': 'str', 'lon': 'str'})\n",
    "df = df.drop('the_geom', axis=1)\n",
    "df.head()"
   ]
  },
  {
   "cell_type": "code",
   "execution_count": 7,
   "metadata": {},
   "outputs": [
    {
     "data": {
      "text/plain": [
       "zone          object\n",
       "LocationID     int64\n",
       "borough       object\n",
       "lat           object\n",
       "lon           object\n",
       "dtype: object"
      ]
     },
     "execution_count": 7,
     "metadata": {},
     "output_type": "execute_result"
    }
   ],
   "source": [
    "df.dtypes"
   ]
  },
  {
   "cell_type": "code",
   "execution_count": 8,
   "metadata": {},
   "outputs": [],
   "source": [
    "df.to_csv('organized_taxi_zone_lat_lon.csv', index=False)"
   ]
  },
  {
   "cell_type": "code",
   "execution_count": 9,
   "metadata": {},
   "outputs": [
    {
     "data": {
      "text/html": [
       "<div>\n",
       "<style scoped>\n",
       "    .dataframe tbody tr th:only-of-type {\n",
       "        vertical-align: middle;\n",
       "    }\n",
       "\n",
       "    .dataframe tbody tr th {\n",
       "        vertical-align: top;\n",
       "    }\n",
       "\n",
       "    .dataframe thead th {\n",
       "        text-align: right;\n",
       "    }\n",
       "</style>\n",
       "<table border=\"1\" class=\"dataframe\">\n",
       "  <thead>\n",
       "    <tr style=\"text-align: right;\">\n",
       "      <th></th>\n",
       "      <th>zone</th>\n",
       "      <th>LocationID</th>\n",
       "      <th>borough</th>\n",
       "      <th>lat</th>\n",
       "      <th>lon</th>\n",
       "    </tr>\n",
       "  </thead>\n",
       "  <tbody>\n",
       "    <tr>\n",
       "      <th>0</th>\n",
       "      <td>Newark Airport</td>\n",
       "      <td>1</td>\n",
       "      <td>EWR</td>\n",
       "      <td>40.69024330172403</td>\n",
       "      <td>-74.17427027586203</td>\n",
       "    </tr>\n",
       "    <tr>\n",
       "      <th>136</th>\n",
       "      <td>JFK Airport</td>\n",
       "      <td>132</td>\n",
       "      <td>Queens</td>\n",
       "      <td>40.63906784736892</td>\n",
       "      <td>-73.78374464223006</td>\n",
       "    </tr>\n",
       "    <tr>\n",
       "      <th>145</th>\n",
       "      <td>LaGuardia Airport</td>\n",
       "      <td>138</td>\n",
       "      <td>Queens</td>\n",
       "      <td>40.774627080754335</td>\n",
       "      <td>-73.87282104019933</td>\n",
       "    </tr>\n",
       "  </tbody>\n",
       "</table>\n",
       "</div>"
      ],
      "text/plain": [
       "                  zone  LocationID borough                 lat  \\\n",
       "0       Newark Airport           1     EWR   40.69024330172403   \n",
       "136        JFK Airport         132  Queens   40.63906784736892   \n",
       "145  LaGuardia Airport         138  Queens  40.774627080754335   \n",
       "\n",
       "                    lon  \n",
       "0    -74.17427027586203  \n",
       "136  -73.78374464223006  \n",
       "145  -73.87282104019933  "
      ]
     },
     "execution_count": 9,
     "metadata": {},
     "output_type": "execute_result"
    }
   ],
   "source": [
    "df[df.LocationID.isin([1, 132, 138])]"
   ]
  }
 ],
 "metadata": {
  "kernelspec": {
   "display_name": "Python 3 (ipykernel)",
   "language": "python",
   "name": "python3"
  },
  "language_info": {
   "codemirror_mode": {
    "name": "ipython",
    "version": 3
   },
   "file_extension": ".py",
   "mimetype": "text/x-python",
   "name": "python",
   "nbconvert_exporter": "python",
   "pygments_lexer": "ipython3",
   "version": "3.10.12"
  }
 },
 "nbformat": 4,
 "nbformat_minor": 2
}
