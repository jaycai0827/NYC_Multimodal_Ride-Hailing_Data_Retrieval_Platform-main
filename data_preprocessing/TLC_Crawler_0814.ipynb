{
 "cells": [
  {
   "cell_type": "code",
   "execution_count": 11,
   "id": "98fbade8",
   "metadata": {},
   "outputs": [],
   "source": [
    "# -*- coding: utf-8 -*-\n",
    "import requests\n",
    "from bs4 import BeautifulSoup\n",
    "import urllib.request \n",
    "import os\n",
    "import time\n",
    "import datetime"
   ]
  },
  {
   "cell_type": "code",
   "execution_count": 13,
   "id": "56eb7038",
   "metadata": {},
   "outputs": [
    {
     "name": "stdout",
     "output_type": "stream",
     "text": [
      "done:2023-1\n",
      "done:2023-2\n",
      "done:2023-3\n",
      "done:2023-4\n",
      "done:2023-5\n",
      "('yellow_tripdata_2023-01.parquet', 'https://d37ci6vzurychx.cloudfront.net/trip-data/yellow_tripdata_2023-01.parquet', 'fhvhv_tripdata_2023-01.parquet', 'https://d37ci6vzurychx.cloudfront.net/trip-data/fhvhv_tripdata_2023-01.parquet')\n",
      "('yellow_tripdata_2023-02.parquet', 'https://d37ci6vzurychx.cloudfront.net/trip-data/yellow_tripdata_2023-02.parquet', 'fhvhv_tripdata_2023-02.parquet', 'https://d37ci6vzurychx.cloudfront.net/trip-data/fhvhv_tripdata_2023-02.parquet')\n",
      "('yellow_tripdata_2023-03.parquet', 'https://d37ci6vzurychx.cloudfront.net/trip-data/yellow_tripdata_2023-03.parquet', 'fhvhv_tripdata_2023-03.parquet ', 'https://d37ci6vzurychx.cloudfront.net/trip-data/fhvhv_tripdata_2023-03.parquet ')\n",
      "('yellow_tripdata_2023-04.parquet', 'https://d37ci6vzurychx.cloudfront.net/trip-data/yellow_tripdata_2023-04.parquet', 'fhvhv_tripdata_2023-04.parquet', 'https://d37ci6vzurychx.cloudfront.net/trip-data/fhvhv_tripdata_2023-04.parquet')\n",
      "('yellow_tripdata_2023-05.parquet ', 'https://d37ci6vzurychx.cloudfront.net/trip-data/yellow_tripdata_2023-05.parquet ', 'fhvhv_tripdata_2023-05.parquet ', 'https://d37ci6vzurychx.cloudfront.net/trip-data/fhvhv_tripdata_2023-05.parquet ')\n",
      "\n",
      "程式執行花費的時間： 311.32 秒\n",
      "done時間: 2023-08-15 16:59:10.797719\n"
     ]
    }
   ],
   "source": [
    "# 記錄開始時間\n",
    "start_time = time.time()\n",
    "\n",
    "#紐約計程車資料下載網址\n",
    "response = requests.get(\"https://www.nyc.gov/site/tlc/about/tlc-trip-record-data.page\")\n",
    "response.encoding = 'utf-8'\n",
    "soup = BeautifulSoup(response.text, 'html.parser')\n",
    "\n",
    "#下載儲存的路徑\n",
    "save_path = \"./data/\"\n",
    "\n",
    "#下載\"年\"需要的資料\n",
    "year = 2023\n",
    "links = soup.find(\"div\", {\"id\":f\"faq{year}\"})\n",
    "target_links = []\n",
    "\n",
    "# 12個ul(12個月份)\n",
    "links_ul = links.find_all(\"ul\")\n",
    "\n",
    "m = 1\n",
    "for ul in links_ul:\n",
    "    \n",
    "    # 只需要ul裡面的第一個li及第四個li裡面的a\n",
    "    li_elements = ul.find_all(\"a\")\n",
    "    if len(li_elements) >= 4:\n",
    "        # 取得第一個連結\n",
    "        first_li = li_elements[0]['href']\n",
    "        # 取得第四個連結\n",
    "        fourth_li = li_elements[3]['href']  \n",
    "        image_name_first = os.path.basename(first_li).strip(\"/\")\n",
    "        image_name_fourth = os.path.basename(fourth_li).strip(\"/\")\n",
    "        \n",
    "        # 下載第一個連結\n",
    "        full_save_path_first = os.path.join(save_path, image_name_first)\n",
    "        os.makedirs(os.path.dirname(full_save_path_first), exist_ok=True)\n",
    "        urllib.request.urlretrieve(first_li, full_save_path_first)\n",
    "        \n",
    "        # 下載第四個連結\n",
    "        full_save_path_fourth = os.path.join(save_path, image_name_fourth)\n",
    "        os.makedirs(os.path.dirname(full_save_path_fourth), exist_ok=True)\n",
    "        urllib.request.urlretrieve(fourth_li, full_save_path_fourth)\n",
    "        \n",
    "        target_links.append((image_name_first, first_li, image_name_fourth, fourth_li))\n",
    "        print(f\"done:{year}-{m}\")\n",
    "        m += 1\n",
    "\n",
    "for i in target_links :\n",
    "    print( i )\n",
    "\n",
    "# 記錄結束時間\n",
    "end_time = time.time()\n",
    "# 計算程式執行花費的時間\n",
    "execution_time = end_time - start_time\n",
    "print(\"\\n程式執行花費的時間：\", round(execution_time,2), \"秒\")\n",
    "print(\"done時間:\", datetime.datetime.now())"
   ]
  }
 ],
 "metadata": {
  "kernelspec": {
   "display_name": "Python 3 (ipykernel)",
   "language": "python",
   "name": "python3"
  },
  "language_info": {
   "codemirror_mode": {
    "name": "ipython",
    "version": 3
   },
   "file_extension": ".py",
   "mimetype": "text/x-python",
   "name": "python",
   "nbconvert_exporter": "python",
   "pygments_lexer": "ipython3",
   "version": "3.9.17"
  }
 },
 "nbformat": 4,
 "nbformat_minor": 5
}
