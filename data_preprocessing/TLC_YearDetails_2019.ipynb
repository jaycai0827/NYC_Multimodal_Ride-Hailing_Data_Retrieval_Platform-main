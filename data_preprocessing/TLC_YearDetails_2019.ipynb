{
 "cells": [
  {
   "cell_type": "code",
   "execution_count": 1,
   "id": "32ba1f2d",
   "metadata": {
    "id": "32ba1f2d"
   },
   "outputs": [],
   "source": [
    "import time\n",
    "import pandas as pd\n",
    "import matplotlib.pyplot as plt\n",
    "import datetime\n",
    "from holidays.countries import US\n",
    "import numpy as np"
   ]
  },
  {
   "cell_type": "markdown",
   "id": "11aa8ecb",
   "metadata": {
    "id": "11aa8ecb"
   },
   "source": [
    "### DEFINE"
   ]
  },
  {
   "cell_type": "code",
   "execution_count": 2,
   "id": "96887d05",
   "metadata": {
    "id": "96887d05",
    "outputId": "b378217f-74d3-464e-c2bc-f8802f89ad96"
   },
   "outputs": [
    {
     "name": "stdout",
     "output_type": "stream",
     "text": [
      "done時間: 2023-08-17 16:33:37.946931\n"
     ]
    }
   ],
   "source": [
    "# 讀取檔案位置\n",
    "\n",
    "# 初始年月份\n",
    "set_data_year = 2019 #start_year\n",
    "set_data_month = 2 #start_month\n",
    "end_year = 2019\n",
    "end_month = 12\n",
    "\n",
    "# 檔案位置\n",
    "Site = './data/'\n",
    "\n",
    "# 檔案輸出位置\n",
    "custom_output_path_dfTime = './dfTime/test'\n",
    "custom_output_path_dfTLC = './dfTLC/test'\n",
    "\n",
    "# 年月\n",
    "start_year = set_data_year\n",
    "start_month = set_data_month\n",
    "\n",
    "datasite_fhvhv = []\n",
    "datasite_yellow = []\n",
    "for year in range(start_year, end_year+1):  # 修改为你的年份范围\n",
    "    if year == start_year:\n",
    "        if year < end_year :\n",
    "            for month in range(start_month, 13):  # 生成1到12的月份\n",
    "                filename = f'{Site}fhvhv_tripdata_{year}-{month:02}.parquet'\n",
    "                datasite_fhvhv.append(filename)\n",
    "                filename = f'{Site}yellow_tripdata_{year}-{month:02}.parquet'\n",
    "                datasite_yellow.append(filename)                \n",
    "        elif year == end_year:\n",
    "            for month in range(start_month, end_month+1):  # 生成1到12的月份\n",
    "                filename = f'{Site}fhvhv_tripdata_{year}-{month:02}.parquet'\n",
    "                datasite_fhvhv.append(filename)    \n",
    "                filename = f'{Site}yellow_tripdata_{year}-{month:02}.parquet'\n",
    "                datasite_yellow.append(filename)   \n",
    "    elif year > start_year:\n",
    "        if year < end_year :\n",
    "            for month in range(1, 13):  # 生成1到12的月份\n",
    "                filename = f'{Site}fhvhv_tripdata_{year}-{month:02}.parquet'\n",
    "                datasite_fhvhv.append(filename)\n",
    "                filename = f'{Site}yellow_tripdata_{year}-{month:02}.parquet'\n",
    "                datasite_yellow.append(filename)   \n",
    "        elif year == end_year:\n",
    "            for month in range(1, end_month+1):  # 生成1到12的月份\n",
    "                filename = f'{Site}fhvhv_tripdata_{year}-{month:02}.parquet'\n",
    "                datasite_fhvhv.append(filename)         \n",
    "                filename = f'{Site}yellow_tripdata_{year}-{month:02}.parquet'\n",
    "                datasite_yellow.append(filename)   \n",
    "\n",
    "\n",
    "\n",
    "print(\"done時間:\", datetime.datetime.now())"
   ]
  },
  {
   "cell_type": "markdown",
   "id": "f80ad5b0",
   "metadata": {
    "id": "f80ad5b0"
   },
   "source": [
    "### 留下需要特徵 & 移除不在當月資料\n",
    "    HVFHV: 'hvfhs_license_num','pickup_datetime','dropoff_datetime','PULocationID','DOLocationID','trip_miles','trip_time','base_passenger_fare'\n",
    "    \n",
    "    Yellow: 'tpep_pickup_datetime','tpep_dropoff_datetime','trip_distance','PULocationID','DOLocationID','fare_amount'"
   ]
  },
  {
   "cell_type": "code",
   "execution_count": 3,
   "id": "2b1dd96f",
   "metadata": {
    "id": "2b1dd96f",
    "outputId": "18bfef1d-508e-4265-ab78-cb5d3539f586"
   },
   "outputs": [
    {
     "name": "stdout",
     "output_type": "stream",
     "text": [
      "fhvfv==初始筆數=剩餘筆數=移除佔比\n",
      "2019 = 2 = 20159102 = 20159102 =0%\n",
      "2019 = 3 = 23864598 = 23864598 =0%\n",
      "2019 = 4 = 21734822 = 21734822 =0%\n",
      "2019 = 5 = 22329247 = 22329247 =0%\n",
      "2019 = 6 = 21001990 = 21001990 =0%\n",
      "2019 = 7 = 20303312 = 20303312 =0%\n",
      "2019 = 8 = 20126113 = 20126113 =0%\n",
      "2019 = 9 = 20069321 = 20069321 =0%\n",
      "2019 = 10 = 21162290 = 21162290 =0%\n",
      "2019 = 11 = 21635568 = 21635568 =0%\n",
      "2019 = 12 = 22243901 = 22243901 =0%\n",
      "yellow==初始筆數=剩餘筆數=移除佔比\n",
      "2019 = 2 = 7049370 = 7048744 = 0.00888 %\n",
      "2019 = 3 = 7866620 = 7866110 = 0.00648 %\n",
      "2019 = 4 = 7475949 = 7475636 = 0.00419 %\n",
      "2019 = 5 = 7598445 = 7598068 = 0.00496 %\n",
      "2019 = 6 = 6971560 = 6971026 = 0.00766 %\n",
      "2019 = 7 = 6310419 = 6310134 = 0.00452 %\n",
      "2019 = 8 = 6073357 = 6072851 = 0.00833 %\n",
      "2019 = 9 = 6567788 = 6567396 = 0.00597 %\n",
      "2019 = 10 = 7213891 = 7213588 = 0.0042 %\n",
      "2019 = 11 = 6878111 = 6877463 = 0.00942 %\n",
      "2019 = 12 = 6896317 = 6895933 = 0.00557 %\n",
      "fhvfv=2019=初始總筆數=剩餘總筆數=移除佔比\n",
      "\\== 234630264 = 234630264 =0%\n",
      "yellow=2019=初始總筆數=剩餘總筆數=移除佔比\n",
      "\\== 76901827 = 76896949 = 0.00634 %\n",
      "\n",
      "程式執行花費的時間： 224.11 秒\n",
      "done時間: 2023-08-17 16:37:28.598253\n"
     ]
    }
   ],
   "source": [
    "# 記錄開始時間\n",
    "start_time = time.time()\n",
    "\n",
    "\n",
    "# 建立一個空的DataFrame來存放合併後的數據\n",
    "df_fhvhv = pd.DataFrame()\n",
    "df_yellow = pd.DataFrame()\n",
    "\n",
    "data_year = set_data_year\n",
    "data_month = set_data_month\n",
    "temp0_total_fhvfv = 0\n",
    "temp1_total_fhvfv = 0\n",
    "temp0_total_yellow = 0\n",
    "temp1_total_yellow = 0\n",
    "# 逐一讀取並合併所有Parquet檔案\n",
    "print('fhvfv==初始筆數=剩餘筆數=移除佔比')\n",
    "for file in datasite_fhvhv:\n",
    "    # 使用pandas的read_parquet函數讀取Parquet檔案並將其轉換為DataFrame\n",
    "    df = pd.read_parquet(file)\n",
    "    temp_0 = df.shape[0]\n",
    "    temp0_total_fhvfv += temp_0\n",
    "    # 留下需要的欄位\n",
    "    df =  df[['hvfhs_license_num','pickup_datetime','dropoff_datetime','PULocationID','DOLocationID','trip_miles','trip_time','shared_match_flag']]\n",
    "    # 移除非當月的data\n",
    "    df =  df[(df['pickup_datetime'].dt.year == data_year) & (df['pickup_datetime'].dt.month == data_month)]\n",
    "    temp_1 = df.shape[0]\n",
    "    temp1_total_fhvfv += temp_1\n",
    "    # 查看剩餘資料量\n",
    "    if temp_0 > temp_1 :\n",
    "        print(data_year,'=',data_month,'=',temp_0,'=',temp_1,round(100-(temp_1/temp_0*100),5),\"%\")\n",
    "    else:\n",
    "        print(data_year,'=',data_month,'=',temp_0,'=',temp_1,'=0%')\n",
    "    # 年月處理\n",
    "    if data_month == 12:\n",
    "        data_year += 1\n",
    "        data_month = 1\n",
    "    else :\n",
    "        data_month += 1\n",
    "    # 將數據合併到已有的DataFrame中\n",
    "    df_fhvhv = pd.concat([df_fhvhv, df], ignore_index=True)\n",
    "    \n",
    "    \n",
    "\n",
    "data_year = set_data_year\n",
    "data_month = set_data_month\n",
    "print('yellow==初始筆數=剩餘筆數=移除佔比')\n",
    "for file in datasite_yellow:\n",
    "    # 使用pandas的read_parquet函數讀取Parquet檔案並將其轉換為DataFrame\n",
    "    df = pd.read_parquet(file)\n",
    "    temp_0 = df.shape[0]\n",
    "    temp0_total_yellow += temp_0\n",
    "    # 留下需要的欄位\n",
    "    df =  df[['tpep_pickup_datetime','tpep_dropoff_datetime','trip_distance','PULocationID','DOLocationID']]\n",
    "    # 移除非當月的data\n",
    "    df =  df[(df['tpep_pickup_datetime'].dt.year == data_year) & (df['tpep_pickup_datetime'].dt.month == data_month)]\n",
    "    temp_1 = df.shape[0]\n",
    "    temp1_total_yellow += temp_1\n",
    "    # 查看剩餘資料量\n",
    "    if temp_0 > temp_1 :\n",
    "        print(data_year,'=',data_month,'=',temp_0,'=',temp_1,'=',round(100-(temp_1/temp_0*100),5),\"%\")\n",
    "    else:\n",
    "        print(data_year,'=',data_month,'=',temp_0,'=',temp_1,'=0%')        \n",
    "    # 年月處理\n",
    "    if data_month == 12:\n",
    "        data_year += 1\n",
    "        data_month = 1\n",
    "    else :\n",
    "        data_month += 1\n",
    "    # 將數據合併到已有的DataFrame中\n",
    "    df_yellow = pd.concat([df_yellow, df], ignore_index=True)\n",
    "    \n",
    "    \n",
    "print(f'fhvfv={start_year}=初始總筆數=剩餘總筆數=移除佔比')\n",
    "if temp0_total_fhvfv > temp1_total_fhvfv :\n",
    "    print('\\==',temp0_total_fhvfv,'=',temp1_total_fhvfv,'=',round(100-(temp1_total_fhvfv/temp0_total_fhvfv*100),5),\"%\")\n",
    "else:\n",
    "    print('\\==',temp0_total_fhvfv,'=',temp1_total_fhvfv,'=0%')\n",
    "\n",
    "print(f'yellow={start_year}=初始總筆數=剩餘總筆數=移除佔比')\n",
    "if temp0_total_yellow > temp1_total_yellow :\n",
    "    print('\\==',temp0_total_yellow,'=',temp1_total_yellow,'=',round(100-(temp1_total_yellow/temp0_total_yellow*100),5),\"%\")\n",
    "else:\n",
    "    print('\\==',temp0_total_yellow,'=',temp1_total_yellow,'=0%')\n",
    "\n",
    "# 記錄結束時間\n",
    "end_time = time.time()\n",
    "# 計算程式執行花費的時間\n",
    "execution_time = end_time - start_time\n",
    "print(\"\\n程式執行花費的時間：\", round(execution_time,2), \"秒\")\n",
    "\n",
    "\n",
    "#清理暫存\n",
    "del data_month,data_year,df,temp_0,temp_1,temp0_total_yellow,temp1_total_yellow\n",
    "print(\"done時間:\", datetime.datetime.now())"
   ]
  },
  {
   "cell_type": "code",
   "execution_count": 4,
   "id": "ef259424",
   "metadata": {},
   "outputs": [
    {
     "data": {
      "text/html": [
       "<div>\n",
       "<style scoped>\n",
       "    .dataframe tbody tr th:only-of-type {\n",
       "        vertical-align: middle;\n",
       "    }\n",
       "\n",
       "    .dataframe tbody tr th {\n",
       "        vertical-align: top;\n",
       "    }\n",
       "\n",
       "    .dataframe thead th {\n",
       "        text-align: right;\n",
       "    }\n",
       "</style>\n",
       "<table border=\"1\" class=\"dataframe\">\n",
       "  <thead>\n",
       "    <tr style=\"text-align: right;\">\n",
       "      <th></th>\n",
       "      <th>hvfhs_license_num</th>\n",
       "      <th>pickup_datetime</th>\n",
       "      <th>dropoff_datetime</th>\n",
       "      <th>PULocationID</th>\n",
       "      <th>DOLocationID</th>\n",
       "      <th>trip_miles</th>\n",
       "      <th>trip_time</th>\n",
       "      <th>shared_match_flag</th>\n",
       "    </tr>\n",
       "  </thead>\n",
       "  <tbody>\n",
       "    <tr>\n",
       "      <th>0</th>\n",
       "      <td>HV0003</td>\n",
       "      <td>2019-02-01 00:05:18</td>\n",
       "      <td>2019-02-01 00:14:57</td>\n",
       "      <td>245</td>\n",
       "      <td>251</td>\n",
       "      <td>2.450</td>\n",
       "      <td>579</td>\n",
       "      <td>N</td>\n",
       "    </tr>\n",
       "    <tr>\n",
       "      <th>1</th>\n",
       "      <td>HV0003</td>\n",
       "      <td>2019-02-01 00:41:29</td>\n",
       "      <td>2019-02-01 00:49:39</td>\n",
       "      <td>216</td>\n",
       "      <td>197</td>\n",
       "      <td>1.710</td>\n",
       "      <td>490</td>\n",
       "      <td>N</td>\n",
       "    </tr>\n",
       "    <tr>\n",
       "      <th>2</th>\n",
       "      <td>HV0005</td>\n",
       "      <td>2019-02-01 00:51:34</td>\n",
       "      <td>2019-02-01 01:28:29</td>\n",
       "      <td>261</td>\n",
       "      <td>234</td>\n",
       "      <td>5.010</td>\n",
       "      <td>2159</td>\n",
       "      <td>Y</td>\n",
       "    </tr>\n",
       "    <tr>\n",
       "      <th>3</th>\n",
       "      <td>HV0005</td>\n",
       "      <td>2019-02-01 00:03:51</td>\n",
       "      <td>2019-02-01 00:07:16</td>\n",
       "      <td>87</td>\n",
       "      <td>87</td>\n",
       "      <td>0.340</td>\n",
       "      <td>179</td>\n",
       "      <td>Y</td>\n",
       "    </tr>\n",
       "    <tr>\n",
       "      <th>4</th>\n",
       "      <td>HV0005</td>\n",
       "      <td>2019-02-01 00:09:44</td>\n",
       "      <td>2019-02-01 00:39:56</td>\n",
       "      <td>87</td>\n",
       "      <td>198</td>\n",
       "      <td>6.840</td>\n",
       "      <td>1799</td>\n",
       "      <td>Y</td>\n",
       "    </tr>\n",
       "    <tr>\n",
       "      <th>...</th>\n",
       "      <td>...</td>\n",
       "      <td>...</td>\n",
       "      <td>...</td>\n",
       "      <td>...</td>\n",
       "      <td>...</td>\n",
       "      <td>...</td>\n",
       "      <td>...</td>\n",
       "      <td>...</td>\n",
       "    </tr>\n",
       "    <tr>\n",
       "      <th>234630259</th>\n",
       "      <td>HV0005</td>\n",
       "      <td>2019-12-31 23:46:50</td>\n",
       "      <td>2020-01-01 00:00:01</td>\n",
       "      <td>10</td>\n",
       "      <td>197</td>\n",
       "      <td>0.000</td>\n",
       "      <td>791</td>\n",
       "      <td>N</td>\n",
       "    </tr>\n",
       "    <tr>\n",
       "      <th>234630260</th>\n",
       "      <td>HV0005</td>\n",
       "      <td>2019-12-31 23:30:42</td>\n",
       "      <td>2019-12-31 23:42:59</td>\n",
       "      <td>89</td>\n",
       "      <td>72</td>\n",
       "      <td>2.049</td>\n",
       "      <td>737</td>\n",
       "      <td>N</td>\n",
       "    </tr>\n",
       "    <tr>\n",
       "      <th>234630261</th>\n",
       "      <td>HV0005</td>\n",
       "      <td>2019-12-31 23:53:58</td>\n",
       "      <td>2020-01-01 00:15:51</td>\n",
       "      <td>35</td>\n",
       "      <td>89</td>\n",
       "      <td>3.434</td>\n",
       "      <td>1313</td>\n",
       "      <td>N</td>\n",
       "    </tr>\n",
       "    <tr>\n",
       "      <th>234630262</th>\n",
       "      <td>HV0003</td>\n",
       "      <td>2019-12-31 23:24:30</td>\n",
       "      <td>2019-12-31 23:31:01</td>\n",
       "      <td>211</td>\n",
       "      <td>113</td>\n",
       "      <td>1.220</td>\n",
       "      <td>391</td>\n",
       "      <td>N</td>\n",
       "    </tr>\n",
       "    <tr>\n",
       "      <th>234630263</th>\n",
       "      <td>HV0003</td>\n",
       "      <td>2019-12-31 23:43:28</td>\n",
       "      <td>2019-12-31 23:56:43</td>\n",
       "      <td>249</td>\n",
       "      <td>4</td>\n",
       "      <td>1.850</td>\n",
       "      <td>795</td>\n",
       "      <td>N</td>\n",
       "    </tr>\n",
       "  </tbody>\n",
       "</table>\n",
       "<p>234630264 rows × 8 columns</p>\n",
       "</div>"
      ],
      "text/plain": [
       "          hvfhs_license_num     pickup_datetime    dropoff_datetime  \\\n",
       "0                    HV0003 2019-02-01 00:05:18 2019-02-01 00:14:57   \n",
       "1                    HV0003 2019-02-01 00:41:29 2019-02-01 00:49:39   \n",
       "2                    HV0005 2019-02-01 00:51:34 2019-02-01 01:28:29   \n",
       "3                    HV0005 2019-02-01 00:03:51 2019-02-01 00:07:16   \n",
       "4                    HV0005 2019-02-01 00:09:44 2019-02-01 00:39:56   \n",
       "...                     ...                 ...                 ...   \n",
       "234630259            HV0005 2019-12-31 23:46:50 2020-01-01 00:00:01   \n",
       "234630260            HV0005 2019-12-31 23:30:42 2019-12-31 23:42:59   \n",
       "234630261            HV0005 2019-12-31 23:53:58 2020-01-01 00:15:51   \n",
       "234630262            HV0003 2019-12-31 23:24:30 2019-12-31 23:31:01   \n",
       "234630263            HV0003 2019-12-31 23:43:28 2019-12-31 23:56:43   \n",
       "\n",
       "           PULocationID  DOLocationID  trip_miles  trip_time shared_match_flag  \n",
       "0                   245           251       2.450        579                 N  \n",
       "1                   216           197       1.710        490                 N  \n",
       "2                   261           234       5.010       2159                 Y  \n",
       "3                    87            87       0.340        179                 Y  \n",
       "4                    87           198       6.840       1799                 Y  \n",
       "...                 ...           ...         ...        ...               ...  \n",
       "234630259            10           197       0.000        791                 N  \n",
       "234630260            89            72       2.049        737                 N  \n",
       "234630261            35            89       3.434       1313                 N  \n",
       "234630262           211           113       1.220        391                 N  \n",
       "234630263           249             4       1.850        795                 N  \n",
       "\n",
       "[234630264 rows x 8 columns]"
      ]
     },
     "execution_count": 4,
     "metadata": {},
     "output_type": "execute_result"
    }
   ],
   "source": [
    "df_fhvhv"
   ]
  },
  {
   "cell_type": "code",
   "execution_count": 5,
   "id": "fc8315fb",
   "metadata": {},
   "outputs": [
    {
     "data": {
      "text/html": [
       "<div>\n",
       "<style scoped>\n",
       "    .dataframe tbody tr th:only-of-type {\n",
       "        vertical-align: middle;\n",
       "    }\n",
       "\n",
       "    .dataframe tbody tr th {\n",
       "        vertical-align: top;\n",
       "    }\n",
       "\n",
       "    .dataframe thead th {\n",
       "        text-align: right;\n",
       "    }\n",
       "</style>\n",
       "<table border=\"1\" class=\"dataframe\">\n",
       "  <thead>\n",
       "    <tr style=\"text-align: right;\">\n",
       "      <th></th>\n",
       "      <th>tpep_pickup_datetime</th>\n",
       "      <th>tpep_dropoff_datetime</th>\n",
       "      <th>trip_distance</th>\n",
       "      <th>PULocationID</th>\n",
       "      <th>DOLocationID</th>\n",
       "    </tr>\n",
       "  </thead>\n",
       "  <tbody>\n",
       "    <tr>\n",
       "      <th>0</th>\n",
       "      <td>2019-02-01 00:59:04</td>\n",
       "      <td>2019-02-01 01:07:27</td>\n",
       "      <td>2.10</td>\n",
       "      <td>48</td>\n",
       "      <td>234</td>\n",
       "    </tr>\n",
       "    <tr>\n",
       "      <th>1</th>\n",
       "      <td>2019-02-01 00:33:09</td>\n",
       "      <td>2019-02-01 01:03:58</td>\n",
       "      <td>9.80</td>\n",
       "      <td>230</td>\n",
       "      <td>93</td>\n",
       "    </tr>\n",
       "    <tr>\n",
       "      <th>2</th>\n",
       "      <td>2019-02-01 00:09:03</td>\n",
       "      <td>2019-02-01 00:09:16</td>\n",
       "      <td>0.00</td>\n",
       "      <td>145</td>\n",
       "      <td>145</td>\n",
       "    </tr>\n",
       "    <tr>\n",
       "      <th>3</th>\n",
       "      <td>2019-02-01 00:45:38</td>\n",
       "      <td>2019-02-01 00:51:10</td>\n",
       "      <td>0.80</td>\n",
       "      <td>95</td>\n",
       "      <td>95</td>\n",
       "    </tr>\n",
       "    <tr>\n",
       "      <th>4</th>\n",
       "      <td>2019-02-01 00:25:30</td>\n",
       "      <td>2019-02-01 00:28:14</td>\n",
       "      <td>0.80</td>\n",
       "      <td>140</td>\n",
       "      <td>263</td>\n",
       "    </tr>\n",
       "    <tr>\n",
       "      <th>...</th>\n",
       "      <td>...</td>\n",
       "      <td>...</td>\n",
       "      <td>...</td>\n",
       "      <td>...</td>\n",
       "      <td>...</td>\n",
       "    </tr>\n",
       "    <tr>\n",
       "      <th>76896944</th>\n",
       "      <td>2019-12-31 23:56:29</td>\n",
       "      <td>2020-01-01 00:11:17</td>\n",
       "      <td>2.82</td>\n",
       "      <td>143</td>\n",
       "      <td>141</td>\n",
       "    </tr>\n",
       "    <tr>\n",
       "      <th>76896945</th>\n",
       "      <td>2019-12-31 23:11:53</td>\n",
       "      <td>2019-12-31 23:30:56</td>\n",
       "      <td>3.75</td>\n",
       "      <td>148</td>\n",
       "      <td>246</td>\n",
       "    </tr>\n",
       "    <tr>\n",
       "      <th>76896946</th>\n",
       "      <td>2019-12-31 23:57:21</td>\n",
       "      <td>2020-01-01 00:23:34</td>\n",
       "      <td>6.46</td>\n",
       "      <td>197</td>\n",
       "      <td>205</td>\n",
       "    </tr>\n",
       "    <tr>\n",
       "      <th>76896947</th>\n",
       "      <td>2019-12-31 23:37:29</td>\n",
       "      <td>2020-01-01 00:28:21</td>\n",
       "      <td>5.66</td>\n",
       "      <td>90</td>\n",
       "      <td>74</td>\n",
       "    </tr>\n",
       "    <tr>\n",
       "      <th>76896948</th>\n",
       "      <td>2019-12-31 23:09:00</td>\n",
       "      <td>2019-12-31 23:54:00</td>\n",
       "      <td>-15.50</td>\n",
       "      <td>142</td>\n",
       "      <td>149</td>\n",
       "    </tr>\n",
       "  </tbody>\n",
       "</table>\n",
       "<p>76896949 rows × 5 columns</p>\n",
       "</div>"
      ],
      "text/plain": [
       "         tpep_pickup_datetime tpep_dropoff_datetime  trip_distance  \\\n",
       "0         2019-02-01 00:59:04   2019-02-01 01:07:27           2.10   \n",
       "1         2019-02-01 00:33:09   2019-02-01 01:03:58           9.80   \n",
       "2         2019-02-01 00:09:03   2019-02-01 00:09:16           0.00   \n",
       "3         2019-02-01 00:45:38   2019-02-01 00:51:10           0.80   \n",
       "4         2019-02-01 00:25:30   2019-02-01 00:28:14           0.80   \n",
       "...                       ...                   ...            ...   \n",
       "76896944  2019-12-31 23:56:29   2020-01-01 00:11:17           2.82   \n",
       "76896945  2019-12-31 23:11:53   2019-12-31 23:30:56           3.75   \n",
       "76896946  2019-12-31 23:57:21   2020-01-01 00:23:34           6.46   \n",
       "76896947  2019-12-31 23:37:29   2020-01-01 00:28:21           5.66   \n",
       "76896948  2019-12-31 23:09:00   2019-12-31 23:54:00         -15.50   \n",
       "\n",
       "          PULocationID  DOLocationID  \n",
       "0                   48           234  \n",
       "1                  230            93  \n",
       "2                  145           145  \n",
       "3                   95            95  \n",
       "4                  140           263  \n",
       "...                ...           ...  \n",
       "76896944           143           141  \n",
       "76896945           148           246  \n",
       "76896946           197           205  \n",
       "76896947            90            74  \n",
       "76896948           142           149  \n",
       "\n",
       "[76896949 rows x 5 columns]"
      ]
     },
     "execution_count": 5,
     "metadata": {},
     "output_type": "execute_result"
    }
   ],
   "source": [
    "df_yellow"
   ]
  },
  {
   "cell_type": "markdown",
   "id": "7d044ef2",
   "metadata": {
    "id": "7d044ef2"
   },
   "source": [
    "### 特徵整理,統一命名\n",
    "HVFHV:'hvfhs_license_num','pickup_datetime','dropoff_datetime','PULocationID','DOLocationID','trip_miles','trip_time'\n",
    "Yellow:'tpep_pickup_datetime','tpep_dropoff_datetime','trip_distance','PULocationID','DOLocationID'\n",
    "\n",
    "\n",
    "    newname (HVFHV/Yellow/Green)\n",
    "    1.TLC 許可證號 : Name(hvfhs_license_num/--/--)\n",
    "        *改為名稱標記 HV0003-uber/HV0005-lyft/yellow\n",
    "    2.上車時間 : BoardingTime (pickup_datetime/tpep_pickup_datetime/lpep_pickup_datetime)\n",
    "    3.下車時間 : DisembarkingTime (dropoff_datetime/tpep_dropoff_datetime/lpep_dropoff_datetime)\n",
    "    4.上車地點ID : PULocationID (PULocationID/PULocationID/PULocationID)\n",
    "    5.下車地點ID : DOLocationID (DOLocationID/DOLocationID/DOLocationID)\n",
    "    6.行駛里程 : TripMiles (trip_miles/trip_distance/trip_distance)\n",
    "    7.行駛時間(秒) : TripTime (trip_time/--/--)\n",
    "        *驗證是否正確?\n",
    "        *下車時間-上車時間\n",
    "    8.共乘 : shared_match_flag (shared_match_flag/--/--)\n",
    "    9.節日 : is_holiday(--/--/--)\n",
    "    10.星期 : weekday(--/--/--)"
   ]
  },
  {
   "cell_type": "code",
   "execution_count": 6,
   "id": "0b623f20",
   "metadata": {
    "id": "0b623f20",
    "outputId": "22f2e224-3a84-4190-f698-8d98d406ac45"
   },
   "outputs": [
    {
     "name": "stdout",
     "output_type": "stream",
     "text": [
      "程式執行花費的時間： 132.76 秒\n",
      "done時間: 2023-08-17 16:39:52.327836\n"
     ]
    }
   ],
   "source": [
    "# 記錄開始時間\n",
    "start_time = time.time()\n",
    "\n",
    "df_TLC = pd.DataFrame()\n",
    "#名稱統一\n",
    "rename_dict_fhvhv = {'hvfhs_license_num':'Name','pickup_datetime': 'BoardingTime', 'dropoff_datetime': 'DisembarkingTime', 'PULocationID': 'PULocationID','DOLocationID':'DOLocationID', 'trip_miles': 'TripMiles', 'trip_time': 'TripTime', 'base_passenger_fare': 'BaseFare','shared_match_flag':'shared_match_flag'}\n",
    "df_fhvhv.rename(columns=rename_dict_fhvhv, inplace=True)\n",
    "rename_dict_yellow = {'tpep_pickup_datetime': 'BoardingTime', 'tpep_dropoff_datetime': 'DisembarkingTime', 'PULocationID': 'PULocationID','DOLocationID':'DOLocationID', 'trip_distance': 'TripMiles', 'fare_amount': 'BaseFare'}\n",
    "df_yellow.rename(columns=rename_dict_yellow, inplace=True)\n",
    "\n",
    "#fhvhv_Name\n",
    "df_fhvhv.loc[df_fhvhv['Name'] == 'HV0003', 'Name'] = 'uber'\n",
    "df_fhvhv.loc[df_fhvhv['Name'] == 'HV0005', 'Name'] = 'lyft'\n",
    "\n",
    "#yellow 新增特徵 TripTime,Name\n",
    "df_yellow['TripTime'] = (df_yellow['DisembarkingTime'] - df_yellow['BoardingTime']).dt.total_seconds()\n",
    "df_yellow['Name'] = 'yellow'\n",
    "df_yellow['shared_match_flag'] = 'N'\n",
    "#yellow合併到fhvhv\n",
    "df_yellow = df_yellow.reindex(columns = df_fhvhv.columns)\n",
    "df_TLC = pd.concat([df_fhvhv, df_yellow], ignore_index=True)\n",
    "\n",
    "\n",
    "# 記錄結束時間\n",
    "end_time = time.time()\n",
    "# 計算程式執行花費的時間\n",
    "execution_time = end_time - start_time\n",
    "print(\"程式執行花費的時間：\", round(execution_time,2), \"秒\")\n",
    "\n",
    "#清理暫存\n",
    "del df_yellow ,df_fhvhv\n",
    "print(\"done時間:\", datetime.datetime.now())"
   ]
  },
  {
   "cell_type": "markdown",
   "id": "7ad524d4",
   "metadata": {
    "id": "7ad524d4"
   },
   "source": [
    "### 紀錄初始資料筆數"
   ]
  },
  {
   "cell_type": "code",
   "execution_count": 7,
   "id": "9059d127",
   "metadata": {
    "id": "9059d127",
    "outputId": "664d001e-637c-47a5-b819-b2e9cd37efcb"
   },
   "outputs": [
    {
     "name": "stdout",
     "output_type": "stream",
     "text": [
      "Name=init_data_row=init_data_column\n",
      "TLC=311527213=8\n",
      "uber=164845019=8\n",
      "lyft=53275729=8\n",
      "yellow=76896949=8\n",
      "\n",
      "done時間: 2023-08-17 16:43:27.259361\n"
     ]
    }
   ],
   "source": [
    "#紀錄初始資料筆數\n",
    "init_df_TLC_shape = df_TLC.shape\n",
    "init_df_uber_shape = df_TLC[df_TLC['Name']=='uber'].shape\n",
    "init_df_lyft_shape = df_TLC[df_TLC['Name']=='lyft'].shape\n",
    "init_df_yellow_shape = df_TLC[df_TLC['Name']=='yellow'].shape\n",
    "print('Name=init_data_row=init_data_column')\n",
    "print(f'TLC={init_df_TLC_shape[0]}={init_df_TLC_shape[1]}')\n",
    "print(f'uber={init_df_uber_shape[0]}={init_df_uber_shape[1]}')\n",
    "print(f'lyft={init_df_lyft_shape[0]}={init_df_lyft_shape[1]}')\n",
    "print(f'yellow={init_df_yellow_shape[0]}={init_df_yellow_shape[1]}')\n",
    "\n",
    "print(\"\\ndone時間:\", datetime.datetime.now())"
   ]
  },
  {
   "cell_type": "markdown",
   "id": "a5f2a9e7",
   "metadata": {
    "id": "a5f2a9e7"
   },
   "source": [
    "### 缺失值確認"
   ]
  },
  {
   "cell_type": "code",
   "execution_count": 8,
   "id": "8deeef89",
   "metadata": {
    "id": "8deeef89",
    "outputId": "aa0d1b63-37ac-488b-99d3-e354209d8254"
   },
   "outputs": [
    {
     "name": "stdout",
     "output_type": "stream",
     "text": [
      "Name                 0\n",
      "BoardingTime         0\n",
      "DisembarkingTime     0\n",
      "PULocationID         0\n",
      "DOLocationID         0\n",
      "TripMiles            0\n",
      "TripTime             0\n",
      "shared_match_flag    0\n",
      "dtype: int64\n"
     ]
    }
   ],
   "source": [
    "print(df_TLC.isnull().sum())"
   ]
  },
  {
   "cell_type": "markdown",
   "id": "44bcf993",
   "metadata": {
    "id": "44bcf993"
   },
   "source": [
    "### 移除非目標車商"
   ]
  },
  {
   "cell_type": "code",
   "execution_count": 9,
   "id": "0af6f1ab",
   "metadata": {
    "id": "0af6f1ab",
    "outputId": "91ea6218-3932-4410-cb32-07664c6efdf3"
   },
   "outputs": [
    {
     "name": "stdout",
     "output_type": "stream",
     "text": [
      "['uber' 'lyft' 'HV0002' 'HV0004' 'yellow']\n",
      "\n",
      "done時間: 2023-08-17 16:45:38.635451\n"
     ]
    }
   ],
   "source": [
    "#查看目前有的車商\n",
    "print(df_TLC['Name'].unique())\n",
    "\n",
    "print(\"\\ndone時間:\", datetime.datetime.now())"
   ]
  },
  {
   "cell_type": "code",
   "execution_count": 10,
   "id": "ac9600a3",
   "metadata": {
    "id": "ac9600a3",
    "outputId": "dc86a2ba-392a-441a-e56c-ac6f837897bd"
   },
   "outputs": [
    {
     "name": "stdout",
     "output_type": "stream",
     "text": [
      "HV0002=筆數=占比\n",
      "\\= 6388934 = 2.0508 %\n",
      "\n",
      "done時間: 2023-08-17 16:47:21.387790\n"
     ]
    }
   ],
   "source": [
    "#筆數計算-1\n",
    "print('HV0002=筆數=占比')\n",
    "print('\\=', df_TLC[(df_TLC['Name'] == 'HV0002')].shape[0],'=',round(df_TLC[(df_TLC['Name'] == 'HV0002')].shape[0] / init_df_TLC_shape[0]*100,4),'%')\n",
    "\n",
    "print(\"\\ndone時間:\", datetime.datetime.now())"
   ]
  },
  {
   "cell_type": "code",
   "execution_count": 11,
   "id": "675cda04",
   "metadata": {},
   "outputs": [
    {
     "name": "stdout",
     "output_type": "stream",
     "text": [
      "HV0004=筆數=占比\n",
      "\\= 10120582 = 3.2487 %\n",
      "\n",
      "done時間: 2023-08-17 16:47:49.705255\n"
     ]
    }
   ],
   "source": [
    "#筆數計算-2\n",
    "print('HV0004=筆數=占比')\n",
    "print('\\=', df_TLC[(df_TLC['Name'] == 'HV0004')].shape[0],'=',round(df_TLC[(df_TLC['Name'] == 'HV0004')].shape[0] / init_df_TLC_shape[0]*100,4),'%')\n",
    "\n",
    "print(\"\\ndone時間:\", datetime.datetime.now())"
   ]
  },
  {
   "cell_type": "code",
   "execution_count": 12,
   "id": "b5e7b9a1",
   "metadata": {
    "id": "b5e7b9a1",
    "outputId": "71568178-2270-4dbc-afae-5dfac3d9f8f1"
   },
   "outputs": [
    {
     "name": "stdout",
     "output_type": "stream",
     "text": [
      "['uber' 'lyft' 'yellow']\n",
      "\n",
      "done時間: 2023-08-17 16:54:29.329573\n"
     ]
    }
   ],
   "source": [
    "#移除\n",
    "df_TLC = df_TLC.drop(df_TLC[df_TLC['Name'] == 'HV0002'].index)\n",
    "df_TLC = df_TLC.drop(df_TLC[df_TLC['Name'] == 'HV0004'].index)\n",
    "print(df_TLC['Name'].unique())\n",
    "\n",
    "print(\"\\ndone時間:\",datetime.datetime.now())"
   ]
  },
  {
   "cell_type": "markdown",
   "id": "452e197b",
   "metadata": {},
   "source": [
    "### 移除上車地點 PULocationID 未知 (264,265)"
   ]
  },
  {
   "cell_type": "code",
   "execution_count": 13,
   "id": "cea7484a",
   "metadata": {},
   "outputs": [
    {
     "name": "stdout",
     "output_type": "stream",
     "text": [
      "264筆數=265筆數=總占比\n",
      "627327 = 53304 = 0.2185 %\n",
      "\n",
      "done時間: 2023-08-17 16:56:06.882191\n"
     ]
    }
   ],
   "source": [
    "#筆數計算\n",
    "print('264筆數=265筆數=總占比') \n",
    "print(df_TLC[(df_TLC['PULocationID'] == 264)].shape[0],'=', df_TLC[(df_TLC['PULocationID'] == 265)].shape[0],'=', \n",
    "       round(df_TLC[(df_TLC['PULocationID'] == 264) | (df_TLC['PULocationID'] == 265)].shape[0] / init_df_TLC_shape[0]*100,4),'%'  )\n",
    "\n",
    "print(\"\\ndone時間:\", datetime.datetime.now())"
   ]
  },
  {
   "cell_type": "code",
   "execution_count": 14,
   "id": "f3c189ac",
   "metadata": {},
   "outputs": [
    {
     "name": "stdout",
     "output_type": "stream",
     "text": [
      "上車未知剩餘筆數 =  0\n",
      "\n",
      "done時間: 2023-08-17 16:58:15.413238\n"
     ]
    }
   ],
   "source": [
    "df_TLC = df_TLC[~df_TLC['PULocationID'].isin([264, 265])]\n",
    "\n",
    "#check-必須為0\n",
    "print('上車未知剩餘筆數 = ',df_TLC[(df_TLC['PULocationID'] == 264) | (df_TLC['PULocationID'] == 265)].shape[0])\n",
    "print(\"\\ndone時間:\", datetime.datetime.now())"
   ]
  },
  {
   "cell_type": "markdown",
   "id": "7571a5b8",
   "metadata": {
    "id": "7571a5b8"
   },
   "source": [
    "### 移除不符合的共乘資料\n",
    "    UBER 2020/3/17-2022/6/20\n",
    "    LYFT 2020/3/17-2021/8/18\n",
    "         2023/5/12-"
   ]
  },
  {
   "cell_type": "code",
   "execution_count": 15,
   "id": "0e6af6eb",
   "metadata": {},
   "outputs": [
    {
     "name": "stdout",
     "output_type": "stream",
     "text": [
      "/=uber=lyft\n",
      "data= 0 = 0\n",
      "占比= 0.0 % = 0.0 %\n",
      "\n",
      "done時間: 2023-08-17 17:05:22.799563\n"
     ]
    }
   ],
   "source": [
    "#uber,lyft\n",
    "# 定義起始日期和結束日期\n",
    "uber_start_date = pd.to_datetime('2020-03-17')\n",
    "uber_end_date = pd.to_datetime('2022-06-20')\n",
    "lyft_start_date = pd.to_datetime('2020-03-17')\n",
    "lyft_end_date = pd.to_datetime('2021-08-18')\n",
    "lyft_start_date1 = pd.to_datetime('2023-05-12')\n",
    "\n",
    "#筆數計算\n",
    "temp_uber = ((df_TLC['Name'] == 'uber') & (df_TLC['shared_match_flag'] == 'Y') & (df_TLC['BoardingTime'].between(uber_start_date, uber_end_date))).sum()\n",
    "\n",
    "temp_lyft = ((df_TLC['Name'] == 'lyft') & (df_TLC['shared_match_flag'] == 'Y') & ((df_TLC['BoardingTime'].between(lyft_start_date, lyft_end_date))|(df_TLC['BoardingTime'] >= lyft_start_date1 ))).sum()\n",
    "print('/=uber=lyft')\n",
    "print('data=',temp_uber,'=',temp_lyft)\n",
    "print('占比=',round(temp_uber / init_df_uber_shape[0]*100,4),'%','=',round(temp_uber / init_df_uber_shape[0]*100,4),'%' )\n",
    "\n",
    "print(\"\\ndone時間:\", datetime.datetime.now())\n",
    "\n",
    "#清理暫存\n",
    "del temp_uber ,temp_lyft"
   ]
  },
  {
   "cell_type": "markdown",
   "id": "3394c405",
   "metadata": {
    "id": "3394c405"
   },
   "source": [
    "###　不處理  trip_time != DisembarkingTime - BoardingTime\n",
    "### 移除 TripTime <= 0"
   ]
  },
  {
   "cell_type": "code",
   "execution_count": 16,
   "id": "037d96f6",
   "metadata": {
    "id": "037d96f6",
    "outputId": "d1156b17-3ee4-4cb5-c74f-6206538d3fc1"
   },
   "outputs": [
    {
     "name": "stdout",
     "output_type": "stream",
     "text": [
      "\\=uber=lyft=yellow\n",
      "data= 2033 = 11738 = 63687\n",
      "占比= 0.00123 %= 0.02203 %= 0.08282 %\n",
      "\n",
      "程式執行花費的時間： 33.43 秒\n",
      "done時間: 2023-08-17 17:06:21.970749\n"
     ]
    }
   ],
   "source": [
    "#記錄開始時間\n",
    "start_time = time.time()\n",
    "\n",
    "#印出資訊\n",
    "temp_uber = ((df_TLC['Name'] == 'uber') & (df_TLC['TripTime'] <= 0)).sum()\n",
    "temp_lyft = ((df_TLC['Name'] == 'lyft') & (df_TLC['TripTime'] <= 0)).sum()\n",
    "temp_yellow = ((df_TLC['Name'] == 'yellow') & (df_TLC['TripTime'] <= 0)).sum()\n",
    "\n",
    "print('\\=uber=lyft=yellow')\n",
    "print('data=',temp_uber,'=',temp_lyft,'=',temp_yellow)\n",
    "print('占比=',round(temp_uber / init_df_uber_shape[0]*100,5),'%='\n",
    "              ,round(temp_lyft / init_df_lyft_shape[0]*100,5),'%='\n",
    "              ,round(temp_yellow / init_df_yellow_shape[0]*100,5),'%' )\n",
    "\n",
    "#記錄結束時間\n",
    "end_time = time.time()\n",
    "#計算程式執行花費的時間\n",
    "execution_time = end_time - start_time\n",
    "print(\"\\n程式執行花費的時間：\", round(execution_time,2), \"秒\")\n",
    "print(\"done時間:\", datetime.datetime.now())"
   ]
  },
  {
   "cell_type": "code",
   "execution_count": 17,
   "id": "63835e62",
   "metadata": {
    "id": "63835e62",
    "outputId": "14e832dc-7316-4f49-9e43-7a4829db068a"
   },
   "outputs": [
    {
     "name": "stdout",
     "output_type": "stream",
     "text": [
      "TripTime<=0剩餘筆數: 0\n",
      "\n",
      "done時間: 2023-08-17 17:10:13.131483\n"
     ]
    }
   ],
   "source": [
    "#移除 (df_TLC['TripTime'] <= 0)\n",
    "df_TLC = df_TLC.drop(df_TLC[df_TLC['TripTime'] <= 0].index)\n",
    "#check-必須為0\n",
    "print('TripTime<=0剩餘筆數:',(df_TLC['TripTime'] <= 0).sum())\n",
    "print(\"\\ndone時間:\", datetime.datetime.now())"
   ]
  },
  {
   "cell_type": "markdown",
   "id": "a3e7989d",
   "metadata": {
    "id": "a3e7989d"
   },
   "source": [
    "### 移除TripMiles <= 0"
   ]
  },
  {
   "cell_type": "code",
   "execution_count": 18,
   "id": "d5687cfc",
   "metadata": {
    "id": "d5687cfc",
    "outputId": "2ec045b8-da63-4ddb-9521-11a1cf8478e0"
   },
   "outputs": [
    {
     "name": "stdout",
     "output_type": "stream",
     "text": [
      "\\=uber=lyft=yellow\n",
      "data= 68957 = 405109 = 551949\n",
      "占比= 0.04183 %= 0.7604 %= 0.71778 %\n",
      "\n",
      "程式執行花費的時間： 36.51 秒\n",
      "done時間: 2023-08-17 17:11:23.614158\n"
     ]
    }
   ],
   "source": [
    "#記錄開始時間\n",
    "start_time = time.time()\n",
    "\n",
    "#印出資訊\n",
    "temp_uber = ((df_TLC['Name'] == 'uber') & (df_TLC['TripMiles'] <= 0)).sum()\n",
    "temp_lyft = ((df_TLC['Name'] == 'lyft') & (df_TLC['TripMiles'] <= 0)).sum()\n",
    "temp_yellow = ((df_TLC['Name'] == 'yellow') & (df_TLC['TripMiles'] <= 0)).sum()\n",
    "\n",
    "print('\\=uber=lyft=yellow')\n",
    "print('data=',temp_uber,'=',temp_lyft,'=',temp_yellow)\n",
    "print('占比=',round(temp_uber / init_df_uber_shape[0]*100,5),'%='\n",
    "              ,round(temp_lyft / init_df_lyft_shape[0]*100,5),'%='\n",
    "              ,round(temp_yellow / init_df_yellow_shape[0]*100,5),'%' )\n",
    "\n",
    "\n",
    "#記錄結束時間\n",
    "end_time = time.time()\n",
    "#計算程式執行花費的時間\n",
    "execution_time = end_time - start_time\n",
    "print(\"\\n程式執行花費的時間：\", round(execution_time,2), \"秒\")\n",
    "\n",
    "del temp_uber,temp_lyft,temp_yellow\n",
    "print(\"done時間:\",datetime.datetime.now())"
   ]
  },
  {
   "cell_type": "code",
   "execution_count": 19,
   "id": "36683c18",
   "metadata": {
    "id": "36683c18",
    "outputId": "a2b32437-0f79-4d2e-f204-6880b9ad2031"
   },
   "outputs": [
    {
     "name": "stdout",
     "output_type": "stream",
     "text": [
      "TripMiles<=0剩餘筆數: 0\n",
      "\n",
      "done時間: 2023-08-17 17:15:28.260947\n"
     ]
    }
   ],
   "source": [
    "#移除 (df_TLC['TripMiles'] <= 0)\n",
    "df_TLC = df_TLC.drop(df_TLC[df_TLC['TripMiles'] <= 0].index)\n",
    "#check-必須為0\n",
    "print('TripMiles<=0剩餘筆數:',(df_TLC['TripMiles'] <= 0).sum())\n",
    "print(\"\\ndone時間:\", datetime.datetime.now())"
   ]
  },
  {
   "cell_type": "markdown",
   "id": "a16b1bf9",
   "metadata": {
    "id": "a16b1bf9"
   },
   "source": [
    "### 新增節日相關資訊"
   ]
  },
  {
   "cell_type": "code",
   "execution_count": 20,
   "id": "097e6a1d",
   "metadata": {},
   "outputs": [
    {
     "name": "stdout",
     "output_type": "stream",
     "text": [
      "(datetime.date(2019, 1, 1), \"New Year's Day\")\n",
      "(datetime.date(2019, 1, 21), 'Martin Luther King Jr. Day')\n",
      "(datetime.date(2019, 2, 14), \"Valentine's Day\")\n",
      "(datetime.date(2019, 2, 18), \"Washington's Birthday\")\n",
      "(datetime.date(2019, 3, 17), \"St.Patrick's Day\")\n",
      "(datetime.date(2019, 4, 21), 'Easter')\n",
      "(datetime.date(2019, 4, 22), 'Easter Monday')\n",
      "(datetime.date(2019, 5, 27), 'Memorial Day')\n",
      "(datetime.date(2019, 7, 4), 'Independence Day')\n",
      "(datetime.date(2019, 9, 2), 'Labor Day')\n",
      "(datetime.date(2019, 10, 14), 'Columbus Day')\n",
      "(datetime.date(2019, 10, 31), 'Halloween')\n",
      "(datetime.date(2019, 11, 5), 'Election Day')\n",
      "(datetime.date(2019, 11, 11), 'Veterans Day')\n",
      "(datetime.date(2019, 11, 28), 'Thanksgiving; Thanksgiving weekend')\n",
      "(datetime.date(2019, 11, 29), 'Thanksgiving weekend')\n",
      "(datetime.date(2019, 11, 30), 'Thanksgiving weekend')\n",
      "(datetime.date(2019, 12, 24), 'Christmas Eve')\n",
      "(datetime.date(2019, 12, 25), 'Christmas Day')\n",
      "(datetime.date(2019, 12, 26), 'Christmas season')\n",
      "(datetime.date(2019, 12, 27), 'Christmas season')\n",
      "(datetime.date(2019, 12, 28), 'Christmas season')\n",
      "(datetime.date(2019, 12, 29), 'Christmas season')\n",
      "(datetime.date(2019, 12, 30), 'Christmas season')\n",
      "(datetime.date(2019, 12, 31), \"New Year's Eve\")\n",
      "(datetime.date(2020, 1, 1), \"New Year's Day\")\n",
      "(datetime.date(2020, 1, 20), 'Martin Luther King Jr. Day')\n",
      "(datetime.date(2020, 2, 14), \"Valentine's Day\")\n",
      "(datetime.date(2020, 2, 17), \"Washington's Birthday\")\n",
      "(datetime.date(2020, 3, 17), \"St.Patrick's Day\")\n",
      "(datetime.date(2020, 4, 12), 'Easter')\n",
      "(datetime.date(2020, 4, 13), 'Easter Monday')\n",
      "(datetime.date(2020, 5, 25), 'Memorial Day')\n",
      "(datetime.date(2020, 7, 3), 'Independence Day (Observed)')\n",
      "(datetime.date(2020, 7, 4), 'Independence Day')\n",
      "(datetime.date(2020, 9, 7), 'Labor Day')\n",
      "(datetime.date(2020, 10, 12), 'Columbus Day')\n",
      "(datetime.date(2020, 10, 31), 'Halloween')\n",
      "(datetime.date(2020, 11, 3), 'Election Day')\n",
      "(datetime.date(2020, 11, 11), 'Veterans Day')\n",
      "(datetime.date(2020, 11, 26), 'Thanksgiving; Thanksgiving weekend')\n",
      "(datetime.date(2020, 11, 27), 'Thanksgiving weekend')\n",
      "(datetime.date(2020, 11, 28), 'Thanksgiving weekend')\n",
      "(datetime.date(2020, 12, 24), 'Christmas Eve')\n",
      "(datetime.date(2020, 12, 25), 'Christmas Day')\n",
      "(datetime.date(2020, 12, 26), 'Christmas season')\n",
      "(datetime.date(2020, 12, 27), 'Christmas season')\n",
      "(datetime.date(2020, 12, 28), 'Christmas season')\n",
      "(datetime.date(2020, 12, 29), 'Christmas season')\n",
      "(datetime.date(2020, 12, 30), 'Christmas season')\n",
      "(datetime.date(2020, 12, 31), \"New Year's Eve\")\n",
      "(datetime.date(2021, 1, 1), \"New Year's Day\")\n",
      "(datetime.date(2021, 1, 18), 'Martin Luther King Jr. Day')\n",
      "(datetime.date(2021, 2, 14), \"Valentine's Day\")\n",
      "(datetime.date(2021, 2, 15), \"Washington's Birthday\")\n",
      "(datetime.date(2021, 3, 17), \"St.Patrick's Day\")\n",
      "(datetime.date(2021, 4, 4), 'Easter')\n",
      "(datetime.date(2021, 4, 5), 'Easter Monday')\n",
      "(datetime.date(2021, 5, 31), 'Memorial Day')\n",
      "(datetime.date(2021, 6, 18), 'Juneteenth National Independence Day (Observed)')\n",
      "(datetime.date(2021, 6, 19), 'Juneteenth National Independence Day')\n",
      "(datetime.date(2021, 7, 4), 'Independence Day')\n",
      "(datetime.date(2021, 7, 5), 'Independence Day (Observed)')\n",
      "(datetime.date(2021, 9, 6), 'Labor Day')\n",
      "(datetime.date(2021, 10, 11), 'Columbus Day')\n",
      "(datetime.date(2021, 10, 31), 'Halloween')\n",
      "(datetime.date(2021, 11, 2), 'Election Day')\n",
      "(datetime.date(2021, 11, 11), 'Veterans Day')\n",
      "(datetime.date(2021, 11, 25), 'Thanksgiving; Thanksgiving weekend')\n",
      "(datetime.date(2021, 11, 26), 'Thanksgiving weekend')\n",
      "(datetime.date(2021, 11, 27), 'Thanksgiving weekend')\n",
      "(datetime.date(2021, 12, 24), 'Christmas Day (Observed); Christmas Eve')\n",
      "(datetime.date(2021, 12, 25), 'Christmas Day')\n",
      "(datetime.date(2021, 12, 26), 'Christmas season')\n",
      "(datetime.date(2021, 12, 27), 'Christmas season')\n",
      "(datetime.date(2021, 12, 28), 'Christmas season')\n",
      "(datetime.date(2021, 12, 29), 'Christmas season')\n",
      "(datetime.date(2021, 12, 30), 'Christmas season')\n",
      "(datetime.date(2021, 12, 31), \"New Year's Day (Observed); New Year's Eve\")\n",
      "(datetime.date(2022, 1, 1), \"New Year's Day\")\n",
      "(datetime.date(2022, 1, 17), 'Martin Luther King Jr. Day')\n",
      "(datetime.date(2022, 2, 14), \"Valentine's Day\")\n",
      "(datetime.date(2022, 2, 21), \"Washington's Birthday\")\n",
      "(datetime.date(2022, 3, 17), \"St.Patrick's Day\")\n",
      "(datetime.date(2022, 4, 17), 'Easter')\n",
      "(datetime.date(2022, 4, 18), 'Easter Monday')\n",
      "(datetime.date(2022, 5, 30), 'Memorial Day')\n",
      "(datetime.date(2022, 6, 19), 'Juneteenth National Independence Day')\n",
      "(datetime.date(2022, 6, 20), 'Juneteenth National Independence Day (Observed)')\n",
      "(datetime.date(2022, 7, 4), 'Independence Day')\n",
      "(datetime.date(2022, 9, 5), 'Labor Day')\n",
      "(datetime.date(2022, 10, 10), 'Columbus Day')\n",
      "(datetime.date(2022, 10, 31), 'Halloween')\n",
      "(datetime.date(2022, 11, 8), 'Election Day')\n",
      "(datetime.date(2022, 11, 11), 'Veterans Day')\n",
      "(datetime.date(2022, 11, 24), 'Thanksgiving; Thanksgiving weekend')\n",
      "(datetime.date(2022, 11, 25), 'Thanksgiving weekend')\n",
      "(datetime.date(2022, 11, 26), 'Thanksgiving weekend')\n",
      "(datetime.date(2022, 12, 24), 'Christmas Eve')\n",
      "(datetime.date(2022, 12, 25), 'Christmas Day')\n",
      "(datetime.date(2022, 12, 26), 'Christmas Day (Observed); Christmas season')\n",
      "(datetime.date(2022, 12, 27), 'Christmas season')\n",
      "(datetime.date(2022, 12, 28), 'Christmas season')\n",
      "(datetime.date(2022, 12, 29), 'Christmas season')\n",
      "(datetime.date(2022, 12, 30), 'Christmas season')\n",
      "(datetime.date(2022, 12, 31), \"New Year's Eve\")\n",
      "(datetime.date(2023, 1, 1), \"New Year's Day\")\n",
      "(datetime.date(2023, 1, 2), \"New Year's Day (Observed)\")\n",
      "(datetime.date(2023, 1, 16), 'Martin Luther King Jr. Day')\n",
      "(datetime.date(2023, 2, 14), \"Valentine's Day\")\n",
      "(datetime.date(2023, 2, 20), \"Washington's Birthday\")\n",
      "(datetime.date(2023, 3, 17), \"St.Patrick's Day\")\n",
      "(datetime.date(2023, 4, 9), 'Easter')\n",
      "(datetime.date(2023, 4, 10), 'Easter Monday')\n",
      "(datetime.date(2023, 5, 29), 'Memorial Day')\n",
      "(datetime.date(2023, 6, 19), 'Juneteenth National Independence Day')\n",
      "(datetime.date(2023, 7, 4), 'Independence Day')\n",
      "(datetime.date(2023, 9, 4), 'Labor Day')\n",
      "(datetime.date(2023, 10, 9), 'Columbus Day')\n",
      "(datetime.date(2023, 10, 31), 'Halloween')\n",
      "(datetime.date(2023, 11, 7), 'Election Day')\n",
      "(datetime.date(2023, 11, 10), 'Veterans Day (Observed)')\n",
      "(datetime.date(2023, 11, 11), 'Veterans Day')\n",
      "(datetime.date(2023, 11, 23), 'Thanksgiving; Thanksgiving weekend')\n",
      "(datetime.date(2023, 11, 24), 'Thanksgiving weekend')\n",
      "(datetime.date(2023, 11, 25), 'Thanksgiving weekend')\n",
      "(datetime.date(2023, 12, 24), 'Christmas Eve')\n",
      "(datetime.date(2023, 12, 25), 'Christmas Day')\n",
      "(datetime.date(2023, 12, 26), 'Christmas season')\n",
      "(datetime.date(2023, 12, 27), 'Christmas season')\n",
      "(datetime.date(2023, 12, 28), 'Christmas season')\n",
      "(datetime.date(2023, 12, 29), 'Christmas season')\n",
      "(datetime.date(2023, 12, 30), 'Christmas season')\n",
      "(datetime.date(2023, 12, 31), \"New Year's Eve\")\n"
     ]
    }
   ],
   "source": [
    "# from holidays.calendars import gregorian\n",
    "class AllHolidays(US):\n",
    "    def _populate(self, year):\n",
    "        super()._populate(year)\n",
    "        self.pop_named(\"Lincoln's Birthday\")\n",
    "        self.pop_named(\"Susan B. Anthony Day\")\n",
    "        \n",
    "        self._add_holiday(\"Valentine's Day\", 2, 14)\n",
    "        self._add_holiday(\"St.Patrick's Day\", 3, 17)\n",
    "        self._add_holiday(\"Halloween\", 10, 31)\n",
    "        \n",
    "#        self._add_holiday(\"Thanksgiving weekend\", \n",
    "#                          self._get_nth_weekday_of_month(month=11, n=4, weekday=4))\n",
    "#        self._add_holiday(\"Thanksgiving weekend\", \n",
    "#                          self._get_nth_weekday_of_month(month=11, n=4, weekday=5))\n",
    "#        self._add_holiday(\"Thanksgiving weekend\", \n",
    "#                          self._get_nth_weekday_of_month(month=11, n=4, weekday=6))\n",
    "        \n",
    "        self._add_holiday(\"Christmas Eve\", 12, 24)\n",
    "        self._add_holiday(\"Christmas season\", 12, 26)\n",
    "        self._add_holiday(\"Christmas season\", 12, 27)\n",
    "        self._add_holiday(\"Christmas season\", 12, 28)\n",
    "        self._add_holiday(\"Christmas season\", 12, 29)\n",
    "        self._add_holiday(\"Christmas season\", 12, 30)\n",
    "        \n",
    "        self._add_holiday(\"New Year's Eve\", 12, 31)\n",
    "\n",
    "# 實例化AllHolidays\n",
    "ny_holidays_all = AllHolidays(subdiv='NY', years=[2019, 2020, 2021, 2022, 2023])\n",
    "\n",
    "# 新增2019~2023年的復活節、復活節星期一\n",
    "ny_holidays_all[datetime.date(2019, 4, 21)] = \"Easter\"\n",
    "ny_holidays_all[datetime.date(2019, 4, 22)] = \"Easter Monday\"\n",
    "ny_holidays_all[datetime.date(2020, 4, 12)] = \"Easter\"\n",
    "ny_holidays_all[datetime.date(2020, 4, 13)] = \"Easter Monday\"\n",
    "ny_holidays_all[datetime.date(2021, 4, 4)] = \"Easter\"\n",
    "ny_holidays_all[datetime.date(2021, 4, 5)] = \"Easter Monday\"\n",
    "ny_holidays_all[datetime.date(2022, 4, 17)] = \"Easter\"\n",
    "ny_holidays_all[datetime.date(2022, 4, 18)] = \"Easter Monday\"\n",
    "ny_holidays_all[datetime.date(2023, 4, 9)] = \"Easter\"\n",
    "ny_holidays_all[datetime.date(2023, 4, 10)] = \"Easter Monday\"\n",
    "\n",
    "# 新增2019~2023感恩節\n",
    "ny_holidays_all[datetime.date(2019,11, 28)] = \"Thanksgiving weekend\"\n",
    "ny_holidays_all[datetime.date(2019,11, 29)] = \"Thanksgiving weekend\"\n",
    "ny_holidays_all[datetime.date(2019,11, 30)] = \"Thanksgiving weekend\"\n",
    "ny_holidays_all[datetime.date(2020,11, 26)] = \"Thanksgiving weekend\"\n",
    "ny_holidays_all[datetime.date(2020,11, 27)] = \"Thanksgiving weekend\"\n",
    "ny_holidays_all[datetime.date(2020,11, 28)] = \"Thanksgiving weekend\"\n",
    "ny_holidays_all[datetime.date(2021,11, 25)] = \"Thanksgiving weekend\"\n",
    "ny_holidays_all[datetime.date(2021,11, 26)] = \"Thanksgiving weekend\"\n",
    "ny_holidays_all[datetime.date(2021,11, 27)] = \"Thanksgiving weekend\"\n",
    "ny_holidays_all[datetime.date(2022,11, 24)] = \"Thanksgiving weekend\"\n",
    "ny_holidays_all[datetime.date(2022,11, 25)] = \"Thanksgiving weekend\"\n",
    "ny_holidays_all[datetime.date(2022,11, 26)] =  \"Thanksgiving weekend\"\n",
    "ny_holidays_all[datetime.date(2023,11, 23)] = \"Thanksgiving weekend\"\n",
    "ny_holidays_all[datetime.date(2023,11, 24)] = \"Thanksgiving weekend\"\n",
    "ny_holidays_all[datetime.date(2023,11, 25)] = \"Thanksgiving weekend\"\n",
    "\n",
    "# 查看\n",
    "for i in sorted(ny_holidays_all.items()):\n",
    "    print(i)\n",
    "\n",
    "del i"
   ]
  },
  {
   "cell_type": "code",
   "execution_count": 22,
   "id": "86cb7537",
   "metadata": {},
   "outputs": [
    {
     "name": "stdout",
     "output_type": "stream",
     "text": [
      "is_holiday\n",
      "False    275858796\n",
      "True      17374797\n",
      "Name: count, dtype: int64\n",
      "-------------\n",
      "Name=True=False\n",
      "uber= 10096481 = 154671349\n",
      "lyft= 3253226 = 49601627\n",
      "yellow= 4025090 = 71585820\n",
      "Total= 17374797 = 275858796\n",
      "\n",
      "done時間: 2023-08-17 13:51:43.736654\n"
     ]
    }
   ],
   "source": [
    "# 增加所有節日標籤\n",
    "# all_data為Uber, Lyft, Yellow合併後的DataFrame，再請自行修改名稱\n",
    "df_TLC['is_holiday'] = np.where(df_TLC['BoardingTime'].dt.date.isin(ny_holidays_all), True, False)\n",
    "print(df_TLC['is_holiday'].value_counts())\n",
    "\n",
    "print('-------------')\n",
    "print('Name=True=False')\n",
    "print('uber=',((df_TLC['Name'] == 'uber') & (df_TLC['is_holiday'] == True)).sum(),'=',((df_TLC['Name'] == 'uber') & (df_TLC['is_holiday'] == False)).sum())\n",
    "print('lyft=',((df_TLC['Name'] == 'lyft') & (df_TLC['is_holiday'] == True)).sum(),'=',((df_TLC['Name'] == 'lyft') & (df_TLC['is_holiday'] == False)).sum())\n",
    "print('yellow=',((df_TLC['Name'] == 'yellow') & (df_TLC['is_holiday'] == True)).sum(),'=',((df_TLC['Name'] == 'yellow') & (df_TLC['is_holiday'] == False)).sum())\n",
    "print('Total=',(df_TLC['is_holiday'] == True).sum(),'=',(df_TLC['is_holiday'] == False).sum())\n",
    "\n",
    "print(\"\\ndone時間:\", datetime.datetime.now())\n",
    "\n"
   ]
  },
  {
   "cell_type": "markdown",
   "id": "547a6467",
   "metadata": {
    "id": "547a6467"
   },
   "source": [
    "### 新增星期特徵\n",
    "    #星期幾 (用上車時間 BoardingTime)\n",
    "    #(一,二,三,四,五,六,日) = (0,1,2,3,4,5,6)"
   ]
  },
  {
   "cell_type": "code",
   "execution_count": 21,
   "id": "18ace80a",
   "metadata": {
    "id": "18ace80a",
    "outputId": "1fd7daaa-5600-439e-d606-d450ef8ee43b"
   },
   "outputs": [
    {
     "name": "stdout",
     "output_type": "stream",
     "text": [
      "程式執行花費的時間： 144.01 秒\n",
      "done時間: 2023-08-17 17:18:03.429156\n"
     ]
    }
   ],
   "source": [
    "#記錄開始時間\n",
    "start_time = time.time()\n",
    "\n",
    "df_TLC['weekday'] = (pd.to_datetime(df_TLC['BoardingTime'])).dt.weekday\n",
    "df_TLC['date'] = (pd.to_datetime(df_TLC['BoardingTime'])).dt.date\n",
    "df_TLC['year'] = (pd.to_datetime(df_TLC['BoardingTime'])).dt.year\n",
    "df_TLC['month'] = (pd.to_datetime(df_TLC['BoardingTime'])).dt.month\n",
    "df_TLC['day'] = (pd.to_datetime(df_TLC['BoardingTime'])).dt.day\n",
    "df_TLC['hour'] = (pd.to_datetime(df_TLC['BoardingTime'])).dt.hour\n",
    "\n",
    "#記錄結束時間\n",
    "end_time = time.time()\n",
    "#計算程式執行花費的時間\n",
    "execution_time = end_time - start_time\n",
    "print(\"程式執行花費的時間：\", round(execution_time,2), \"秒\")\n",
    "print(\"done時間:\", datetime.datetime.now())"
   ]
  }
 ],
 "metadata": {
  "colab": {
   "provenance": []
  },
  "kernelspec": {
   "display_name": "Python 3 (ipykernel)",
   "language": "python",
   "name": "python3"
  },
  "language_info": {
   "codemirror_mode": {
    "name": "ipython",
    "version": 3
   },
   "file_extension": ".py",
   "mimetype": "text/x-python",
   "name": "python",
   "nbconvert_exporter": "python",
   "pygments_lexer": "ipython3",
   "version": "3.9.16"
  }
 },
 "nbformat": 4,
 "nbformat_minor": 5
}
